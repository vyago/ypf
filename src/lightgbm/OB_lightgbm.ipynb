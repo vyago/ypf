{
 "cells": [
  {
   "cell_type": "markdown",
   "metadata": {},
   "source": [
    "# OPTIMIZACIÓN BAYESIANA"
   ]
  },
  {
   "cell_type": "code",
   "execution_count": 1,
   "metadata": {},
   "outputs": [],
   "source": [
    "import pandas as pd\n",
    "import numpy as np\n",
    "\n",
    "import csv\n",
    "from hyperopt import STATUS_OK\n",
    "from timeit import default_timer as timer\n",
    "from hyperopt import tpe\n",
    "from hyperopt import Trials\n",
    "from hyperopt import fmin\n",
    "from hyperopt import hp\n",
    "\n",
    "\n",
    "import os\n",
    "import lightgbm as lgb"
   ]
  },
  {
   "cell_type": "code",
   "execution_count": 2,
   "metadata": {},
   "outputs": [],
   "source": [
    "#CARGO DATASET\n",
    "os.chdir(\"C:/Users/vyago/Desktop/Yago/Competencia/ypf\")  # Directorio actual\n",
    "train = pd.read_csv(\"../Dataset/dataset_train.csv\")\n"
   ]
  },
  {
   "cell_type": "code",
   "execution_count": 3,
   "metadata": {},
   "outputs": [],
   "source": [
    "train = train.select_dtypes(\"number\")\n",
    "y_train = train[\"delta_WHP\"]\n",
    "X_train = train[train.columns.drop([\"delta_WHP\",\"ID_FILA\"])]#,\"ID_EVENTO\"])]"
   ]
  },
  {
   "cell_type": "code",
   "execution_count": 4,
   "metadata": {},
   "outputs": [],
   "source": [
    "\n",
    "MAX_EVALS = 500\n",
    "N_FOLDS = 5\n",
    "\n",
    "def objective(params, n_folds = N_FOLDS):\n",
    "   \"\"\"Función objetivo para la Optimización de hiperparametros del Gradient Boosting Machine\"\"\"\n",
    "   \n",
    "   # Llevar el conteo de iteraciones\n",
    "   global ITERATION\n",
    "   ITERATION += 1\n",
    "   \n",
    "   # Recupera el subsample si se encuentra, en caso contrario se asigna 1.0\n",
    "   #subsample = params['boosting_type'].get('subsample', 1.0)\n",
    "   \n",
    "   # Extrae el boosting type\n",
    "   params['boosting_type'] = 'gbdt'\n",
    "   params['subsample'] = 1.0\n",
    "  \n",
    "   # Se asegura que los parametros que tienen que ser enteros sean enteros\n",
    "   for parameter_name in ['num_leaves', \n",
    "                          'min_data_in_leaf']:\n",
    "       params[parameter_name] = int(params[parameter_name])\n",
    "   start = timer()\n",
    "   params[\"max_bin\"] = 128\n",
    "   params['objective'] = 'regression'\n",
    "   # realiza n_folds de cross validation\n",
    "   cv_results = lgb.cv(params, train_set, num_boost_round = 9999999,\n",
    "                       nfold = n_folds, early_stopping_rounds = int(50+5/params[\"learning_rate\"]) , \n",
    "                       metrics = 'rmse', seed = 50,stratified=False)\n",
    "   \n",
    "   run_time = timer() - start\n",
    "   \n",
    "   # Extrae el mejor score\n",
    "   best_score = np.max(cv_results['rmse'])\n",
    "   \n",
    "   # El loss se debe minimizar\n",
    "   loss = 1 - best_score\n",
    "   \n",
    "   # Impulsando las iteraciones que arrojaron el mayor score en CV\n",
    "   n_estimators = int(np.argmax(cv_results['rmse']) + 1)\n",
    "   \n",
    "   # Escribe sobre el archivo CSV ('a' significa append)\n",
    "   of_connection = open(out_file, 'a')\n",
    "   writer = csv.writer(of_connection)\n",
    "   writer.writerow([loss, params, ITERATION, n_estimators, \n",
    "                   run_time])\n",
    "   \n",
    "   # Dictionary con informacion para la evaluación\n",
    "   return {'loss': loss, 'params': params, 'iteration': ITERATION,\n",
    "           'estimators': n_estimators, 'train_time': run_time, \n",
    "           'status': STATUS_OK}"
   ]
  },
  {
   "cell_type": "code",
   "execution_count": 15,
   "metadata": {},
   "outputs": [
    {
     "data": {
      "text/plain": [
       "\"\\nspace = {\\n'class_weight': hp.choice('class_weight', [None, 'balanced']),\\n'boosting_type': hp.choice('boosting_type', [\\n{'boosting_type': 'gbdt', 'subsample': hp.uniform('gdbt_subsample', 0.5, 1)},\\n{'boosting_type': 'dart', 'subsample': hp.uniform('dart_subsample', 0.5, 1)},\\n{'boosting_type': 'goss', 'subsample': 1.0}]),\\n'num_leaves': hp.quniform('num_leaves', 30, 150, 1),\\n'learning_rate': hp.loguniform('learning_rate', np.log(0.01),np.log(0.2)),\\n'subsample_for_bin': hp.quniform('subsample_for_bin', 20000,300000),\\n'min_child_samples': hp.quniform('min_child_samples', 20, 500, 5),\\n'reg_alpha': hp.uniform('reg_alpha', 0.0, 1.0),\\n'reg_lambda': hp.uniform('reg_lambda', 0.0, 1.0),\\n'colsample_bytree': hp.uniform('colsample_by_tree', 0.6, 1.0)}\""
      ]
     },
     "execution_count": 15,
     "metadata": {},
     "output_type": "execute_result"
    }
   ],
   "source": [
    "#ESPACIO DE BUSQUEDA EJEMPLO\n",
    "## LO ANULO, ME INTERESA EXPLORAR OTROS\n",
    "\"\"\"\n",
    "space = {\n",
    "'class_weight': hp.choice('class_weight', [None, 'balanced']),\n",
    "'boosting_type': hp.choice('boosting_type', [\n",
    "{'boosting_type': 'gbdt', 'subsample': hp.uniform('gdbt_subsample', 0.5, 1)},\n",
    "{'boosting_type': 'dart', 'subsample': hp.uniform('dart_subsample', 0.5, 1)},\n",
    "{'boosting_type': 'goss', 'subsample': 1.0}]),\n",
    "'num_leaves': hp.quniform('num_leaves', 30, 150, 1),\n",
    "'learning_rate': hp.loguniform('learning_rate', np.log(0.01),np.log(0.2)),\n",
    "'subsample_for_bin': hp.quniform('subsample_for_bin', 20000,300000),\n",
    "'min_child_samples': hp.quniform('min_child_samples', 20, 500, 5),\n",
    "'reg_alpha': hp.uniform('reg_alpha', 0.0, 1.0),\n",
    "'reg_lambda': hp.uniform('reg_lambda', 0.0, 1.0),\n",
    "'colsample_bytree': hp.uniform('colsample_by_tree', 0.6, 1.0)}\"\"\""
   ]
  },
  {
   "cell_type": "code",
   "execution_count": 5,
   "metadata": {},
   "outputs": [],
   "source": [
    "space = {\n",
    "'num_leaves': hp.quniform('num_leaves', 100, 2000, 1),\n",
    "'learning_rate': hp.loguniform('learning_rate', np.log(0.01),np.log(0.2)),\n",
    "'min_data_in_leaf': hp.quniform('min_data_in_leaf', 200, 4000, 5),\n",
    "'feature_fraction': hp.uniform('feature_fraction', 0.1, 1.0)\n",
    "}\n",
    "\n"
   ]
  },
  {
   "cell_type": "code",
   "execution_count": 7,
   "metadata": {},
   "outputs": [],
   "source": [
    "\n",
    "# Algoritmo de optimización\n",
    "tpe_algorithm = tpe.suggest\n",
    "\n",
    "# Lleva el registro de los resultados\n",
    "bayes_trials = Trials()\n",
    "\n",
    "# archivo para guardar los primeros resultados\n",
    "out_file = \"../Exp/HT.csv\"\n",
    "of_connection = open(out_file, 'w')\n",
    "writer = csv.writer(of_connection)\n",
    "\n",
    "# escribe la cabecera de los archivos\n",
    "writer.writerow(['loss', 'params', 'iteration', 'estimators', 'train_time'])\n",
    "of_connection.close()"
   ]
  },
  {
   "cell_type": "code",
   "execution_count": 27,
   "metadata": {},
   "outputs": [
    {
     "name": "stdout",
     "output_type": "stream",
     "text": [
      "  0%|          | 0/300 [00:00<?, ?trial/s, best loss=?]"
     ]
    },
    {
     "name": "stderr",
     "output_type": "stream",
     "text": [
      "c:\\Users\\vyago\\AppData\\Local\\Programs\\Python\\Python310\\lib\\site-packages\\lightgbm\\engine.py:577: UserWarning: 'early_stopping_rounds' argument is deprecated and will be removed in a future release of LightGBM. Pass 'early_stopping()' callback via 'callbacks' argument instead.\n",
      "  _log_warning(\"'early_stopping_rounds' argument is deprecated and will be removed in a future release of LightGBM. \"\n",
      "\n",
      "job exception: Supported target types are: ('binary', 'multiclass'). Got 'continuous' instead.\n",
      "\n"
     ]
    },
    {
     "name": "stdout",
     "output_type": "stream",
     "text": [
      "  0%|          | 0/300 [00:00<?, ?trial/s, best loss=?]\n"
     ]
    },
    {
     "ename": "ValueError",
     "evalue": "Supported target types are: ('binary', 'multiclass'). Got 'continuous' instead.",
     "output_type": "error",
     "traceback": [
      "\u001b[1;31m---------------------------------------------------------------------------\u001b[0m",
      "\u001b[1;31mValueError\u001b[0m                                Traceback (most recent call last)",
      "\u001b[1;32mc:\\Users\\vyago\\Desktop\\Yago\\Competencia\\ypf\\src\\lightgbm\\OB_lightgbm.ipynb Celda 9\u001b[0m in \u001b[0;36m<cell line: 10>\u001b[1;34m()\u001b[0m\n\u001b[0;32m      <a href='vscode-notebook-cell:/c%3A/Users/vyago/Desktop/Yago/Competencia/ypf/src/lightgbm/OB_lightgbm.ipynb#X12sZmlsZQ%3D%3D?line=6'>7</a>\u001b[0m train_set \u001b[39m=\u001b[39m lgb\u001b[39m.\u001b[39mDataset(X_train, label \u001b[39m=\u001b[39m y_train)\n\u001b[0;32m      <a href='vscode-notebook-cell:/c%3A/Users/vyago/Desktop/Yago/Competencia/ypf/src/lightgbm/OB_lightgbm.ipynb#X12sZmlsZQ%3D%3D?line=8'>9</a>\u001b[0m \u001b[39m# Corre la optimización\u001b[39;00m\n\u001b[1;32m---> <a href='vscode-notebook-cell:/c%3A/Users/vyago/Desktop/Yago/Competencia/ypf/src/lightgbm/OB_lightgbm.ipynb#X12sZmlsZQ%3D%3D?line=9'>10</a>\u001b[0m best \u001b[39m=\u001b[39m fmin(fn \u001b[39m=\u001b[39;49m objective, space \u001b[39m=\u001b[39;49m space, algo \u001b[39m=\u001b[39;49m tpe\u001b[39m.\u001b[39;49msuggest,\n\u001b[0;32m     <a href='vscode-notebook-cell:/c%3A/Users/vyago/Desktop/Yago/Competencia/ypf/src/lightgbm/OB_lightgbm.ipynb#X12sZmlsZQ%3D%3D?line=10'>11</a>\u001b[0m             max_evals \u001b[39m=\u001b[39;49m MAX_EVALS, trials \u001b[39m=\u001b[39;49m bayes_trials, \n\u001b[0;32m     <a href='vscode-notebook-cell:/c%3A/Users/vyago/Desktop/Yago/Competencia/ypf/src/lightgbm/OB_lightgbm.ipynb#X12sZmlsZQ%3D%3D?line=11'>12</a>\u001b[0m             rstate\u001b[39m=\u001b[39;49mnp\u001b[39m.\u001b[39;49mrandom\u001b[39m.\u001b[39;49mdefault_rng(\u001b[39m50\u001b[39;49m))\n",
      "File \u001b[1;32mc:\\Users\\vyago\\AppData\\Local\\Programs\\Python\\Python310\\lib\\site-packages\\hyperopt\\fmin.py:540\u001b[0m, in \u001b[0;36mfmin\u001b[1;34m(fn, space, algo, max_evals, timeout, loss_threshold, trials, rstate, allow_trials_fmin, pass_expr_memo_ctrl, catch_eval_exceptions, verbose, return_argmin, points_to_evaluate, max_queue_len, show_progressbar, early_stop_fn, trials_save_file)\u001b[0m\n\u001b[0;32m    537\u001b[0m     fn \u001b[39m=\u001b[39m __objective_fmin_wrapper(fn)\n\u001b[0;32m    539\u001b[0m \u001b[39mif\u001b[39;00m allow_trials_fmin \u001b[39mand\u001b[39;00m \u001b[39mhasattr\u001b[39m(trials, \u001b[39m\"\u001b[39m\u001b[39mfmin\u001b[39m\u001b[39m\"\u001b[39m):\n\u001b[1;32m--> 540\u001b[0m     \u001b[39mreturn\u001b[39;00m trials\u001b[39m.\u001b[39;49mfmin(\n\u001b[0;32m    541\u001b[0m         fn,\n\u001b[0;32m    542\u001b[0m         space,\n\u001b[0;32m    543\u001b[0m         algo\u001b[39m=\u001b[39;49malgo,\n\u001b[0;32m    544\u001b[0m         max_evals\u001b[39m=\u001b[39;49mmax_evals,\n\u001b[0;32m    545\u001b[0m         timeout\u001b[39m=\u001b[39;49mtimeout,\n\u001b[0;32m    546\u001b[0m         loss_threshold\u001b[39m=\u001b[39;49mloss_threshold,\n\u001b[0;32m    547\u001b[0m         max_queue_len\u001b[39m=\u001b[39;49mmax_queue_len,\n\u001b[0;32m    548\u001b[0m         rstate\u001b[39m=\u001b[39;49mrstate,\n\u001b[0;32m    549\u001b[0m         pass_expr_memo_ctrl\u001b[39m=\u001b[39;49mpass_expr_memo_ctrl,\n\u001b[0;32m    550\u001b[0m         verbose\u001b[39m=\u001b[39;49mverbose,\n\u001b[0;32m    551\u001b[0m         catch_eval_exceptions\u001b[39m=\u001b[39;49mcatch_eval_exceptions,\n\u001b[0;32m    552\u001b[0m         return_argmin\u001b[39m=\u001b[39;49mreturn_argmin,\n\u001b[0;32m    553\u001b[0m         show_progressbar\u001b[39m=\u001b[39;49mshow_progressbar,\n\u001b[0;32m    554\u001b[0m         early_stop_fn\u001b[39m=\u001b[39;49mearly_stop_fn,\n\u001b[0;32m    555\u001b[0m         trials_save_file\u001b[39m=\u001b[39;49mtrials_save_file,\n\u001b[0;32m    556\u001b[0m     )\n\u001b[0;32m    558\u001b[0m \u001b[39mif\u001b[39;00m trials \u001b[39mis\u001b[39;00m \u001b[39mNone\u001b[39;00m:\n\u001b[0;32m    559\u001b[0m     \u001b[39mif\u001b[39;00m os\u001b[39m.\u001b[39mpath\u001b[39m.\u001b[39mexists(trials_save_file):\n",
      "File \u001b[1;32mc:\\Users\\vyago\\AppData\\Local\\Programs\\Python\\Python310\\lib\\site-packages\\hyperopt\\base.py:671\u001b[0m, in \u001b[0;36mTrials.fmin\u001b[1;34m(self, fn, space, algo, max_evals, timeout, loss_threshold, max_queue_len, rstate, verbose, pass_expr_memo_ctrl, catch_eval_exceptions, return_argmin, show_progressbar, early_stop_fn, trials_save_file)\u001b[0m\n\u001b[0;32m    666\u001b[0m \u001b[39m# -- Stop-gap implementation!\u001b[39;00m\n\u001b[0;32m    667\u001b[0m \u001b[39m#    fmin should have been a Trials method in the first place\u001b[39;00m\n\u001b[0;32m    668\u001b[0m \u001b[39m#    but for now it's still sitting in another file.\u001b[39;00m\n\u001b[0;32m    669\u001b[0m \u001b[39mfrom\u001b[39;00m \u001b[39m.\u001b[39;00m\u001b[39mfmin\u001b[39;00m \u001b[39mimport\u001b[39;00m fmin\n\u001b[1;32m--> 671\u001b[0m \u001b[39mreturn\u001b[39;00m fmin(\n\u001b[0;32m    672\u001b[0m     fn,\n\u001b[0;32m    673\u001b[0m     space,\n\u001b[0;32m    674\u001b[0m     algo\u001b[39m=\u001b[39;49malgo,\n\u001b[0;32m    675\u001b[0m     max_evals\u001b[39m=\u001b[39;49mmax_evals,\n\u001b[0;32m    676\u001b[0m     timeout\u001b[39m=\u001b[39;49mtimeout,\n\u001b[0;32m    677\u001b[0m     loss_threshold\u001b[39m=\u001b[39;49mloss_threshold,\n\u001b[0;32m    678\u001b[0m     trials\u001b[39m=\u001b[39;49m\u001b[39mself\u001b[39;49m,\n\u001b[0;32m    679\u001b[0m     rstate\u001b[39m=\u001b[39;49mrstate,\n\u001b[0;32m    680\u001b[0m     verbose\u001b[39m=\u001b[39;49mverbose,\n\u001b[0;32m    681\u001b[0m     max_queue_len\u001b[39m=\u001b[39;49mmax_queue_len,\n\u001b[0;32m    682\u001b[0m     allow_trials_fmin\u001b[39m=\u001b[39;49m\u001b[39mFalse\u001b[39;49;00m,  \u001b[39m# -- prevent recursion\u001b[39;49;00m\n\u001b[0;32m    683\u001b[0m     pass_expr_memo_ctrl\u001b[39m=\u001b[39;49mpass_expr_memo_ctrl,\n\u001b[0;32m    684\u001b[0m     catch_eval_exceptions\u001b[39m=\u001b[39;49mcatch_eval_exceptions,\n\u001b[0;32m    685\u001b[0m     return_argmin\u001b[39m=\u001b[39;49mreturn_argmin,\n\u001b[0;32m    686\u001b[0m     show_progressbar\u001b[39m=\u001b[39;49mshow_progressbar,\n\u001b[0;32m    687\u001b[0m     early_stop_fn\u001b[39m=\u001b[39;49mearly_stop_fn,\n\u001b[0;32m    688\u001b[0m     trials_save_file\u001b[39m=\u001b[39;49mtrials_save_file,\n\u001b[0;32m    689\u001b[0m )\n",
      "File \u001b[1;32mc:\\Users\\vyago\\AppData\\Local\\Programs\\Python\\Python310\\lib\\site-packages\\hyperopt\\fmin.py:586\u001b[0m, in \u001b[0;36mfmin\u001b[1;34m(fn, space, algo, max_evals, timeout, loss_threshold, trials, rstate, allow_trials_fmin, pass_expr_memo_ctrl, catch_eval_exceptions, verbose, return_argmin, points_to_evaluate, max_queue_len, show_progressbar, early_stop_fn, trials_save_file)\u001b[0m\n\u001b[0;32m    583\u001b[0m rval\u001b[39m.\u001b[39mcatch_eval_exceptions \u001b[39m=\u001b[39m catch_eval_exceptions\n\u001b[0;32m    585\u001b[0m \u001b[39m# next line is where the fmin is actually executed\u001b[39;00m\n\u001b[1;32m--> 586\u001b[0m rval\u001b[39m.\u001b[39;49mexhaust()\n\u001b[0;32m    588\u001b[0m \u001b[39mif\u001b[39;00m return_argmin:\n\u001b[0;32m    589\u001b[0m     \u001b[39mif\u001b[39;00m \u001b[39mlen\u001b[39m(trials\u001b[39m.\u001b[39mtrials) \u001b[39m==\u001b[39m \u001b[39m0\u001b[39m:\n",
      "File \u001b[1;32mc:\\Users\\vyago\\AppData\\Local\\Programs\\Python\\Python310\\lib\\site-packages\\hyperopt\\fmin.py:364\u001b[0m, in \u001b[0;36mFMinIter.exhaust\u001b[1;34m(self)\u001b[0m\n\u001b[0;32m    362\u001b[0m \u001b[39mdef\u001b[39;00m \u001b[39mexhaust\u001b[39m(\u001b[39mself\u001b[39m):\n\u001b[0;32m    363\u001b[0m     n_done \u001b[39m=\u001b[39m \u001b[39mlen\u001b[39m(\u001b[39mself\u001b[39m\u001b[39m.\u001b[39mtrials)\n\u001b[1;32m--> 364\u001b[0m     \u001b[39mself\u001b[39;49m\u001b[39m.\u001b[39;49mrun(\u001b[39mself\u001b[39;49m\u001b[39m.\u001b[39;49mmax_evals \u001b[39m-\u001b[39;49m n_done, block_until_done\u001b[39m=\u001b[39;49m\u001b[39mself\u001b[39;49m\u001b[39m.\u001b[39;49masynchronous)\n\u001b[0;32m    365\u001b[0m     \u001b[39mself\u001b[39m\u001b[39m.\u001b[39mtrials\u001b[39m.\u001b[39mrefresh()\n\u001b[0;32m    366\u001b[0m     \u001b[39mreturn\u001b[39;00m \u001b[39mself\u001b[39m\n",
      "File \u001b[1;32mc:\\Users\\vyago\\AppData\\Local\\Programs\\Python\\Python310\\lib\\site-packages\\hyperopt\\fmin.py:300\u001b[0m, in \u001b[0;36mFMinIter.run\u001b[1;34m(self, N, block_until_done)\u001b[0m\n\u001b[0;32m    297\u001b[0m     time\u001b[39m.\u001b[39msleep(\u001b[39mself\u001b[39m\u001b[39m.\u001b[39mpoll_interval_secs)\n\u001b[0;32m    298\u001b[0m \u001b[39melse\u001b[39;00m:\n\u001b[0;32m    299\u001b[0m     \u001b[39m# -- loop over trials and do the jobs directly\u001b[39;00m\n\u001b[1;32m--> 300\u001b[0m     \u001b[39mself\u001b[39;49m\u001b[39m.\u001b[39;49mserial_evaluate()\n\u001b[0;32m    302\u001b[0m \u001b[39mself\u001b[39m\u001b[39m.\u001b[39mtrials\u001b[39m.\u001b[39mrefresh()\n\u001b[0;32m    303\u001b[0m \u001b[39mif\u001b[39;00m \u001b[39mself\u001b[39m\u001b[39m.\u001b[39mtrials_save_file \u001b[39m!=\u001b[39m \u001b[39m\"\u001b[39m\u001b[39m\"\u001b[39m:\n",
      "File \u001b[1;32mc:\\Users\\vyago\\AppData\\Local\\Programs\\Python\\Python310\\lib\\site-packages\\hyperopt\\fmin.py:178\u001b[0m, in \u001b[0;36mFMinIter.serial_evaluate\u001b[1;34m(self, N)\u001b[0m\n\u001b[0;32m    176\u001b[0m ctrl \u001b[39m=\u001b[39m base\u001b[39m.\u001b[39mCtrl(\u001b[39mself\u001b[39m\u001b[39m.\u001b[39mtrials, current_trial\u001b[39m=\u001b[39mtrial)\n\u001b[0;32m    177\u001b[0m \u001b[39mtry\u001b[39;00m:\n\u001b[1;32m--> 178\u001b[0m     result \u001b[39m=\u001b[39m \u001b[39mself\u001b[39;49m\u001b[39m.\u001b[39;49mdomain\u001b[39m.\u001b[39;49mevaluate(spec, ctrl)\n\u001b[0;32m    179\u001b[0m \u001b[39mexcept\u001b[39;00m \u001b[39mException\u001b[39;00m \u001b[39mas\u001b[39;00m e:\n\u001b[0;32m    180\u001b[0m     logger\u001b[39m.\u001b[39merror(\u001b[39m\"\u001b[39m\u001b[39mjob exception: \u001b[39m\u001b[39m%s\u001b[39;00m\u001b[39m\"\u001b[39m \u001b[39m%\u001b[39m \u001b[39mstr\u001b[39m(e))\n",
      "File \u001b[1;32mc:\\Users\\vyago\\AppData\\Local\\Programs\\Python\\Python310\\lib\\site-packages\\hyperopt\\base.py:892\u001b[0m, in \u001b[0;36mDomain.evaluate\u001b[1;34m(self, config, ctrl, attach_attachments)\u001b[0m\n\u001b[0;32m    883\u001b[0m \u001b[39melse\u001b[39;00m:\n\u001b[0;32m    884\u001b[0m     \u001b[39m# -- the \"work\" of evaluating `config` can be written\u001b[39;00m\n\u001b[0;32m    885\u001b[0m     \u001b[39m#    either into the pyll part (self.expr)\u001b[39;00m\n\u001b[0;32m    886\u001b[0m     \u001b[39m#    or the normal Python part (self.fn)\u001b[39;00m\n\u001b[0;32m    887\u001b[0m     pyll_rval \u001b[39m=\u001b[39m pyll\u001b[39m.\u001b[39mrec_eval(\n\u001b[0;32m    888\u001b[0m         \u001b[39mself\u001b[39m\u001b[39m.\u001b[39mexpr,\n\u001b[0;32m    889\u001b[0m         memo\u001b[39m=\u001b[39mmemo,\n\u001b[0;32m    890\u001b[0m         print_node_on_error\u001b[39m=\u001b[39m\u001b[39mself\u001b[39m\u001b[39m.\u001b[39mrec_eval_print_node_on_error,\n\u001b[0;32m    891\u001b[0m     )\n\u001b[1;32m--> 892\u001b[0m     rval \u001b[39m=\u001b[39m \u001b[39mself\u001b[39;49m\u001b[39m.\u001b[39;49mfn(pyll_rval)\n\u001b[0;32m    894\u001b[0m \u001b[39mif\u001b[39;00m \u001b[39misinstance\u001b[39m(rval, (\u001b[39mfloat\u001b[39m, \u001b[39mint\u001b[39m, np\u001b[39m.\u001b[39mnumber)):\n\u001b[0;32m    895\u001b[0m     dict_rval \u001b[39m=\u001b[39m {\u001b[39m\"\u001b[39m\u001b[39mloss\u001b[39m\u001b[39m\"\u001b[39m: \u001b[39mfloat\u001b[39m(rval), \u001b[39m\"\u001b[39m\u001b[39mstatus\u001b[39m\u001b[39m\"\u001b[39m: STATUS_OK}\n",
      "\u001b[1;32mc:\\Users\\vyago\\Desktop\\Yago\\Competencia\\ypf\\src\\lightgbm\\OB_lightgbm.ipynb Celda 9\u001b[0m in \u001b[0;36mobjective\u001b[1;34m(params, n_folds)\u001b[0m\n\u001b[0;32m     <a href='vscode-notebook-cell:/c%3A/Users/vyago/Desktop/Yago/Competencia/ypf/src/lightgbm/OB_lightgbm.ipynb#X12sZmlsZQ%3D%3D?line=23'>24</a>\u001b[0m params[\u001b[39m'\u001b[39m\u001b[39mobjective\u001b[39m\u001b[39m'\u001b[39m] \u001b[39m=\u001b[39m \u001b[39m'\u001b[39m\u001b[39mregression\u001b[39m\u001b[39m'\u001b[39m\n\u001b[0;32m     <a href='vscode-notebook-cell:/c%3A/Users/vyago/Desktop/Yago/Competencia/ypf/src/lightgbm/OB_lightgbm.ipynb#X12sZmlsZQ%3D%3D?line=24'>25</a>\u001b[0m \u001b[39m# realiza n_folds de cross validation\u001b[39;00m\n\u001b[1;32m---> <a href='vscode-notebook-cell:/c%3A/Users/vyago/Desktop/Yago/Competencia/ypf/src/lightgbm/OB_lightgbm.ipynb#X12sZmlsZQ%3D%3D?line=25'>26</a>\u001b[0m cv_results \u001b[39m=\u001b[39m lgb\u001b[39m.\u001b[39;49mcv(params, train_set, num_boost_round \u001b[39m=\u001b[39;49m \u001b[39m9999999\u001b[39;49m,\n\u001b[0;32m     <a href='vscode-notebook-cell:/c%3A/Users/vyago/Desktop/Yago/Competencia/ypf/src/lightgbm/OB_lightgbm.ipynb#X12sZmlsZQ%3D%3D?line=26'>27</a>\u001b[0m                     nfold \u001b[39m=\u001b[39;49m n_folds, early_stopping_rounds \u001b[39m=\u001b[39;49m \u001b[39mint\u001b[39;49m(\u001b[39m50\u001b[39;49m\u001b[39m+\u001b[39;49m\u001b[39m5\u001b[39;49m\u001b[39m/\u001b[39;49mparams[\u001b[39m\"\u001b[39;49m\u001b[39mlearning_rate\u001b[39;49m\u001b[39m\"\u001b[39;49m]) , \n\u001b[0;32m     <a href='vscode-notebook-cell:/c%3A/Users/vyago/Desktop/Yago/Competencia/ypf/src/lightgbm/OB_lightgbm.ipynb#X12sZmlsZQ%3D%3D?line=27'>28</a>\u001b[0m                     metrics \u001b[39m=\u001b[39;49m \u001b[39m'\u001b[39;49m\u001b[39mrmse\u001b[39;49m\u001b[39m'\u001b[39;49m, seed \u001b[39m=\u001b[39;49m \u001b[39m50\u001b[39;49m)\n\u001b[0;32m     <a href='vscode-notebook-cell:/c%3A/Users/vyago/Desktop/Yago/Competencia/ypf/src/lightgbm/OB_lightgbm.ipynb#X12sZmlsZQ%3D%3D?line=29'>30</a>\u001b[0m run_time \u001b[39m=\u001b[39m timer() \u001b[39m-\u001b[39m start\n\u001b[0;32m     <a href='vscode-notebook-cell:/c%3A/Users/vyago/Desktop/Yago/Competencia/ypf/src/lightgbm/OB_lightgbm.ipynb#X12sZmlsZQ%3D%3D?line=31'>32</a>\u001b[0m \u001b[39m# Extrae el mejor score\u001b[39;00m\n",
      "File \u001b[1;32mc:\\Users\\vyago\\AppData\\Local\\Programs\\Python\\Python310\\lib\\site-packages\\lightgbm\\engine.py:605\u001b[0m, in \u001b[0;36mcv\u001b[1;34m(params, train_set, num_boost_round, folds, nfold, stratified, shuffle, metrics, fobj, feval, init_model, feature_name, categorical_feature, early_stopping_rounds, fpreproc, verbose_eval, show_stdv, seed, callbacks, eval_train_metric, return_cvbooster)\u001b[0m\n\u001b[0;32m    599\u001b[0m train_set\u001b[39m.\u001b[39m_update_params(params) \\\n\u001b[0;32m    600\u001b[0m          \u001b[39m.\u001b[39m_set_predictor(predictor) \\\n\u001b[0;32m    601\u001b[0m          \u001b[39m.\u001b[39mset_feature_name(feature_name) \\\n\u001b[0;32m    602\u001b[0m          \u001b[39m.\u001b[39mset_categorical_feature(categorical_feature)\n\u001b[0;32m    604\u001b[0m results \u001b[39m=\u001b[39m collections\u001b[39m.\u001b[39mdefaultdict(\u001b[39mlist\u001b[39m)\n\u001b[1;32m--> 605\u001b[0m cvfolds \u001b[39m=\u001b[39m _make_n_folds(train_set, folds\u001b[39m=\u001b[39;49mfolds, nfold\u001b[39m=\u001b[39;49mnfold,\n\u001b[0;32m    606\u001b[0m                         params\u001b[39m=\u001b[39;49mparams, seed\u001b[39m=\u001b[39;49mseed, fpreproc\u001b[39m=\u001b[39;49mfpreproc,\n\u001b[0;32m    607\u001b[0m                         stratified\u001b[39m=\u001b[39;49mstratified, shuffle\u001b[39m=\u001b[39;49mshuffle,\n\u001b[0;32m    608\u001b[0m                         eval_train_metric\u001b[39m=\u001b[39;49meval_train_metric)\n\u001b[0;32m    610\u001b[0m \u001b[39m# setup callbacks\u001b[39;00m\n\u001b[0;32m    611\u001b[0m \u001b[39mif\u001b[39;00m callbacks \u001b[39mis\u001b[39;00m \u001b[39mNone\u001b[39;00m:\n",
      "File \u001b[1;32mc:\\Users\\vyago\\AppData\\Local\\Programs\\Python\\Python310\\lib\\site-packages\\lightgbm\\engine.py:402\u001b[0m, in \u001b[0;36m_make_n_folds\u001b[1;34m(full_data, folds, nfold, params, seed, fpreproc, stratified, shuffle, eval_train_metric)\u001b[0m\n\u001b[0;32m    399\u001b[0m         folds \u001b[39m=\u001b[39m \u001b[39mzip\u001b[39m(train_id, test_id)\n\u001b[0;32m    401\u001b[0m ret \u001b[39m=\u001b[39m CVBooster()\n\u001b[1;32m--> 402\u001b[0m \u001b[39mfor\u001b[39;00m train_idx, test_idx \u001b[39min\u001b[39;00m folds:\n\u001b[0;32m    403\u001b[0m     train_set \u001b[39m=\u001b[39m full_data\u001b[39m.\u001b[39msubset(\u001b[39msorted\u001b[39m(train_idx))\n\u001b[0;32m    404\u001b[0m     valid_set \u001b[39m=\u001b[39m full_data\u001b[39m.\u001b[39msubset(\u001b[39msorted\u001b[39m(test_idx))\n",
      "File \u001b[1;32mc:\\Users\\vyago\\AppData\\Local\\Programs\\Python\\Python310\\lib\\site-packages\\sklearn\\model_selection\\_split.py:340\u001b[0m, in \u001b[0;36m_BaseKFold.split\u001b[1;34m(self, X, y, groups)\u001b[0m\n\u001b[0;32m    332\u001b[0m \u001b[39mif\u001b[39;00m \u001b[39mself\u001b[39m\u001b[39m.\u001b[39mn_splits \u001b[39m>\u001b[39m n_samples:\n\u001b[0;32m    333\u001b[0m     \u001b[39mraise\u001b[39;00m \u001b[39mValueError\u001b[39;00m(\n\u001b[0;32m    334\u001b[0m         (\n\u001b[0;32m    335\u001b[0m             \u001b[39m\"\u001b[39m\u001b[39mCannot have number of splits n_splits=\u001b[39m\u001b[39m{0}\u001b[39;00m\u001b[39m greater\u001b[39m\u001b[39m\"\u001b[39m\n\u001b[0;32m    336\u001b[0m             \u001b[39m\"\u001b[39m\u001b[39m than the number of samples: n_samples=\u001b[39m\u001b[39m{1}\u001b[39;00m\u001b[39m.\u001b[39m\u001b[39m\"\u001b[39m\n\u001b[0;32m    337\u001b[0m         )\u001b[39m.\u001b[39mformat(\u001b[39mself\u001b[39m\u001b[39m.\u001b[39mn_splits, n_samples)\n\u001b[0;32m    338\u001b[0m     )\n\u001b[1;32m--> 340\u001b[0m \u001b[39mfor\u001b[39;00m train, test \u001b[39min\u001b[39;00m \u001b[39msuper\u001b[39m()\u001b[39m.\u001b[39msplit(X, y, groups):\n\u001b[0;32m    341\u001b[0m     \u001b[39myield\u001b[39;00m train, test\n",
      "File \u001b[1;32mc:\\Users\\vyago\\AppData\\Local\\Programs\\Python\\Python310\\lib\\site-packages\\sklearn\\model_selection\\_split.py:86\u001b[0m, in \u001b[0;36mBaseCrossValidator.split\u001b[1;34m(self, X, y, groups)\u001b[0m\n\u001b[0;32m     84\u001b[0m X, y, groups \u001b[39m=\u001b[39m indexable(X, y, groups)\n\u001b[0;32m     85\u001b[0m indices \u001b[39m=\u001b[39m np\u001b[39m.\u001b[39marange(_num_samples(X))\n\u001b[1;32m---> 86\u001b[0m \u001b[39mfor\u001b[39;00m test_index \u001b[39min\u001b[39;00m \u001b[39mself\u001b[39m\u001b[39m.\u001b[39m_iter_test_masks(X, y, groups):\n\u001b[0;32m     87\u001b[0m     train_index \u001b[39m=\u001b[39m indices[np\u001b[39m.\u001b[39mlogical_not(test_index)]\n\u001b[0;32m     88\u001b[0m     test_index \u001b[39m=\u001b[39m indices[test_index]\n",
      "File \u001b[1;32mc:\\Users\\vyago\\AppData\\Local\\Programs\\Python\\Python310\\lib\\site-packages\\sklearn\\model_selection\\_split.py:717\u001b[0m, in \u001b[0;36mStratifiedKFold._iter_test_masks\u001b[1;34m(self, X, y, groups)\u001b[0m\n\u001b[0;32m    716\u001b[0m \u001b[39mdef\u001b[39;00m \u001b[39m_iter_test_masks\u001b[39m(\u001b[39mself\u001b[39m, X, y\u001b[39m=\u001b[39m\u001b[39mNone\u001b[39;00m, groups\u001b[39m=\u001b[39m\u001b[39mNone\u001b[39;00m):\n\u001b[1;32m--> 717\u001b[0m     test_folds \u001b[39m=\u001b[39m \u001b[39mself\u001b[39;49m\u001b[39m.\u001b[39;49m_make_test_folds(X, y)\n\u001b[0;32m    718\u001b[0m     \u001b[39mfor\u001b[39;00m i \u001b[39min\u001b[39;00m \u001b[39mrange\u001b[39m(\u001b[39mself\u001b[39m\u001b[39m.\u001b[39mn_splits):\n\u001b[0;32m    719\u001b[0m         \u001b[39myield\u001b[39;00m test_folds \u001b[39m==\u001b[39m i\n",
      "File \u001b[1;32mc:\\Users\\vyago\\AppData\\Local\\Programs\\Python\\Python310\\lib\\site-packages\\sklearn\\model_selection\\_split.py:660\u001b[0m, in \u001b[0;36mStratifiedKFold._make_test_folds\u001b[1;34m(self, X, y)\u001b[0m\n\u001b[0;32m    658\u001b[0m allowed_target_types \u001b[39m=\u001b[39m (\u001b[39m\"\u001b[39m\u001b[39mbinary\u001b[39m\u001b[39m\"\u001b[39m, \u001b[39m\"\u001b[39m\u001b[39mmulticlass\u001b[39m\u001b[39m\"\u001b[39m)\n\u001b[0;32m    659\u001b[0m \u001b[39mif\u001b[39;00m type_of_target_y \u001b[39mnot\u001b[39;00m \u001b[39min\u001b[39;00m allowed_target_types:\n\u001b[1;32m--> 660\u001b[0m     \u001b[39mraise\u001b[39;00m \u001b[39mValueError\u001b[39;00m(\n\u001b[0;32m    661\u001b[0m         \u001b[39m\"\u001b[39m\u001b[39mSupported target types are: \u001b[39m\u001b[39m{}\u001b[39;00m\u001b[39m. Got \u001b[39m\u001b[39m{!r}\u001b[39;00m\u001b[39m instead.\u001b[39m\u001b[39m\"\u001b[39m\u001b[39m.\u001b[39mformat(\n\u001b[0;32m    662\u001b[0m             allowed_target_types, type_of_target_y\n\u001b[0;32m    663\u001b[0m         )\n\u001b[0;32m    664\u001b[0m     )\n\u001b[0;32m    666\u001b[0m y \u001b[39m=\u001b[39m column_or_1d(y)\n\u001b[0;32m    668\u001b[0m _, y_idx, y_inv \u001b[39m=\u001b[39m np\u001b[39m.\u001b[39munique(y, return_index\u001b[39m=\u001b[39m\u001b[39mTrue\u001b[39;00m, return_inverse\u001b[39m=\u001b[39m\u001b[39mTrue\u001b[39;00m)\n",
      "\u001b[1;31mValueError\u001b[0m: Supported target types are: ('binary', 'multiclass'). Got 'continuous' instead."
     ]
    }
   ],
   "source": [
    "\n",
    "# Variable Global\n",
    "global  ITERATION\n",
    "ITERATION = 0\n",
    "MAX_EVALS = 300\n",
    "\n",
    "# Crea un dataset lgb\n",
    "train_set = lgb.Dataset(X_train, label = y_train)\n",
    "\n",
    "# Corre la optimización\n",
    "best = fmin(fn = objective, space = space, algo = tpe.suggest,\n",
    "            max_evals = MAX_EVALS, trials = bayes_trials, \n",
    "            rstate=np.random.default_rng(50))"
   ]
  },
  {
   "cell_type": "code",
   "execution_count": null,
   "metadata": {},
   "outputs": [],
   "source": []
  }
 ],
 "metadata": {
  "kernelspec": {
   "display_name": "Python 3.10.6 64-bit",
   "language": "python",
   "name": "python3"
  },
  "language_info": {
   "codemirror_mode": {
    "name": "ipython",
    "version": 3
   },
   "file_extension": ".py",
   "mimetype": "text/x-python",
   "name": "python",
   "nbconvert_exporter": "python",
   "pygments_lexer": "ipython3",
   "version": "3.10.6"
  },
  "orig_nbformat": 4,
  "vscode": {
   "interpreter": {
    "hash": "8d832290213029041eddbbc4b8a0a553d5df210b193f32fda00218f7fc512b12"
   }
  }
 },
 "nbformat": 4,
 "nbformat_minor": 2
}
