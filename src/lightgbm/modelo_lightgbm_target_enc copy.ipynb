{
 "cells": [
  {
   "cell_type": "markdown",
   "metadata": {},
   "source": []
  },
  {
   "cell_type": "code",
   "execution_count": null,
   "metadata": {},
   "outputs": [],
   "source": [
    "import pandas as pd\n",
    "import numpy as np\n",
    "import matplotlib.pyplot as plt\n",
    "import seaborn as sns\n",
    "import os\n",
    "import lightgbm as lgb\n",
    "\n",
    "from category_encoders import TargetEncoder\n"
   ]
  },
  {
   "cell_type": "code",
   "execution_count": null,
   "metadata": {},
   "outputs": [],
   "source": [
    "#INPUT\n",
    "input = 'HT004-FE002'\n",
    "fe = input.split(\"-\")[1]\n",
    "#EXPERIMENTO\n",
    "experimento = 'EN-006'\n",
    "\n",
    "#CARGO DATASETS\n",
    "os.chdir(\"C:/Users/vyago/Desktop/Yago/Competencia/ypf\")  # Directorio actual\n",
    "train = pd.read_csv(f\"../Exp/{fe}/train.csv\")\n",
    "test = pd.read_csv(f\"../Exp/{fe}/test.csv\")\n",
    "y = np.sqrt(train[\"delta_WHP\"])\n"
   ]
  },
  {
   "cell_type": "code",
   "execution_count": null,
   "metadata": {},
   "outputs": [],
   "source": [
    "enc = TargetEncoder(cols=['PAD_HIJO','HIJO','PADRE'], min_samples_leaf=20, smoothing=10).fit(train, y)\n",
    "\n",
    "x_train= enc.transform(train)\n",
    "x_test = enc.transform(test)"
   ]
  },
  {
   "cell_type": "code",
   "execution_count": null,
   "metadata": {},
   "outputs": [],
   "source": [
    "# INTERACCIÓN ENTRE VARIABLES CATEGÓRICAS \n",
    "\n",
    "var_cat = ['PAD_HIJO','HIJO','PADRE']\n",
    "\n",
    "for feature_1 in var_cat:\n",
    "    for feature_2 in var_cat:\n",
    "        if feature_1!=feature_2:\n",
    "            x_train[f'{feature_1}-{feature_2}'] = x_train[f'{feature_1}']*x_train[f'{feature_2}']  #CREO VARIABLES DE INTERACCIONES EN TRAIN\n",
    "            x_test[f'{feature_1}-{feature_2}'] = x_test[f'{feature_1}']*x_test[f'{feature_2}']  #CREO VARIABLES DE INTERACCIONES EN TEST\n"
   ]
  },
  {
   "cell_type": "code",
   "execution_count": null,
   "metadata": {},
   "outputs": [],
   "source": [
    "x_train = x_train.select_dtypes(\"number\")"
   ]
  },
  {
   "cell_type": "code",
   "execution_count": null,
   "metadata": {},
   "outputs": [],
   "source": [
    "x_train = x_train[x_train.columns.drop([\"delta_WHP\",\"ID_FILA\"])]\n",
    "\n",
    "x_test = x_test[x_train.columns]\n",
    "x_test = x_test.astype(\"float32\")"
   ]
  },
  {
   "cell_type": "code",
   "execution_count": null,
   "metadata": {},
   "outputs": [],
   "source": [
    "train_data = lgb.Dataset(x_train, label=y)\n"
   ]
  },
  {
   "cell_type": "code",
   "execution_count": null,
   "metadata": {},
   "outputs": [],
   "source": [
    "#LEO LAS SALIDAS DE LA OPTIMIZACIÓN BAYESIANA DEL EXPERIMENTO\n",
    "\n",
    "log_bo = pd.read_csv(f'../Exp/{input}/HT.csv', sep=\",\")\n",
    "log_bo = log_bo.sort_values(\"loss\")\n"
   ]
  },
  {
   "cell_type": "code",
   "execution_count": null,
   "metadata": {},
   "outputs": [],
   "source": [
    "log_bo[\"params\"]\n"
   ]
  },
  {
   "cell_type": "code",
   "execution_count": null,
   "metadata": {},
   "outputs": [],
   "source": [
    "# Parámetros \n",
    "\n",
    "params = {'feature_fraction': 0.31293008809690764, 'learning_rate': 0.07988247330134716, 'min_data_in_leaf': 610, 'num_leaves': 718, 'boosting_type': 'gbdt', 'subsample': 1.0, 'max_bin': 256, 'objective': 'regression', 'feature_pre_filter': False}\n",
    "params['metric'] = 'rmse' # métrica\n",
    "params[\"num_iterations\"] = 7240\n",
    "params[\"max_depth\"] = -1"
   ]
  },
  {
   "cell_type": "markdown",
   "metadata": {},
   "source": [
    "## STACKED GENERALIZATION MODEL"
   ]
  },
  {
   "cell_type": "markdown",
   "metadata": {},
   "source": [
    "El modelo a realizar será un stacking de LightGBM, entrenados con mismos hiperparámetros pero con diferentes semillas"
   ]
  },
  {
   "cell_type": "code",
   "execution_count": null,
   "metadata": {},
   "outputs": [],
   "source": [
    "def generador_numeros(cantidad):\n",
    "    semillas=[]\n",
    "    for num in range(0,cantidad):\n",
    "        semillas.append(1+num+1234*num)\n",
    "    return semillas\n",
    "\n",
    "semillas = generador_numeros(100)"
   ]
  },
  {
   "cell_type": "code",
   "execution_count": null,
   "metadata": {},
   "outputs": [],
   "source": [
    "semillas"
   ]
  },
  {
   "cell_type": "code",
   "execution_count": null,
   "metadata": {},
   "outputs": [],
   "source": [
    "predicciones = pd.DataFrame()\n",
    "\n",
    "for semilla in semillas:\n",
    "    \n",
    "    params['seed'] = semilla\n",
    "    modelo=lgb.train(params,train_data)\n",
    "    predicciones[f'modelo_seed_{semilla}'] = np.square(modelo.predict(x_test))\n",
    "    \n",
    "\n",
    "\n",
    "predicciones[\"mean\"] = predicciones.mean(axis=1)  "
   ]
  },
  {
   "cell_type": "code",
   "execution_count": null,
   "metadata": {},
   "outputs": [],
   "source": [
    "predicciones"
   ]
  },
  {
   "cell_type": "code",
   "execution_count": null,
   "metadata": {},
   "outputs": [],
   "source": [
    "\n",
    "prediccion=test[[\"ID_FILA\"]]\n",
    "\n",
    "prediccion = pd.concat([prediccion,predicciones[\"mean\"]],axis=1)\n"
   ]
  },
  {
   "cell_type": "code",
   "execution_count": null,
   "metadata": {},
   "outputs": [],
   "source": [
    "modelo.feature_importance"
   ]
  },
  {
   "cell_type": "code",
   "execution_count": null,
   "metadata": {},
   "outputs": [],
   "source": [
    "if not os.path.isdir(f'../Exp/{experimento}'):\n",
    "    os.makedirs(f'../Exp/{experimento}')\n",
    " \n",
    "prediccion.to_csv(f\"../Exp/{experimento}/prediccion.csv\",header=False,index=False)"
   ]
  },
  {
   "cell_type": "code",
   "execution_count": null,
   "metadata": {},
   "outputs": [],
   "source": [
    "#IMPORTANCIA DE FEATURES\n",
    "\n",
    "def plotImp(model, X , num = 20, fig_size = (40, 20)):\n",
    "    feature_imp = pd.DataFrame({'Value':model.feature_importance(),'Feature':X.columns})\n",
    "    plt.figure(figsize=fig_size)\n",
    "    sns.set(font_scale = 5)\n",
    "    sns.barplot(x=\"Value\", y=\"Feature\", data=feature_imp.sort_values(by=\"Value\", \n",
    "                                                        ascending=False)[0:num])\n",
    "    plt.title('LightGBM Features (avg over folds)')\n",
    "    plt.tight_layout()\n",
    "\n",
    "    plt.show()\n",
    "    \n",
    "plotImp(modelo,x_train)"
   ]
  },
  {
   "cell_type": "code",
   "execution_count": null,
   "metadata": {},
   "outputs": [],
   "source": [
    "\"\"\"max_bin \n",
    "learning_rate    \n",
    "num_iterations    \n",
    "num_leaves        \n",
    "min_data_in_leaf  \n",
    "feature_fraction  \n",
    "semilla  \"\"\"         "
   ]
  }
 ],
 "metadata": {
  "kernelspec": {
   "display_name": "Python 3.10.6 64-bit",
   "language": "python",
   "name": "python3"
  },
  "language_info": {
   "codemirror_mode": {
    "name": "ipython",
    "version": 3
   },
   "file_extension": ".py",
   "mimetype": "text/x-python",
   "name": "python",
   "nbconvert_exporter": "python",
   "pygments_lexer": "ipython3",
   "version": "3.10.6"
  },
  "orig_nbformat": 4,
  "vscode": {
   "interpreter": {
    "hash": "8d832290213029041eddbbc4b8a0a553d5df210b193f32fda00218f7fc512b12"
   }
  }
 },
 "nbformat": 4,
 "nbformat_minor": 2
}
