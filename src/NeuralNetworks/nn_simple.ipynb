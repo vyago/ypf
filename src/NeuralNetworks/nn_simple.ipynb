{
 "cells": [
  {
   "cell_type": "code",
   "execution_count": 6,
   "metadata": {},
   "outputs": [],
   "source": [
    "import tensorflow as tf\n",
    "\n",
    "import numpy as np\n",
    "\n",
    "from sklearn.preprocessing import MaxAbsScaler\n",
    "from sklearn.model_selection import train_test_split\n",
    "\n",
    "\n",
    "\n",
    "from tensorflow.keras.layers import Dense, Flatten, Conv2D\n",
    "from tensorflow.keras import Model,losses\n",
    "\n",
    "import pandas as pd\n",
    "import os "
   ]
  },
  {
   "cell_type": "code",
   "execution_count": null,
   "metadata": {},
   "outputs": [],
   "source": [
    "#INPUT\n",
    "input = 'HT001-FE002'\n",
    "fe = input.split(\"-\")[1]\n",
    "#EXPERIMENTO\n",
    "experimento = 'EN-003'\n",
    "\n",
    "#CARGO DATASETS\n",
    "os.chdir(\"C:/Users/vyago/Desktop/Yago/Competencia/ypf\")  # Directorio actual\n",
    "train = pd.read_csv(f\"../Exp/{fe}/train.csv\")\n",
    "test = pd.read_csv(f\"../Exp/{fe}/test.csv\")"
   ]
  },
  {
   "cell_type": "code",
   "execution_count": null,
   "metadata": {},
   "outputs": [],
   "source": [
    "train = train.select_dtypes(\"number\")\n",
    "y_train = np.sqrt(train[\"delta_WHP\"])\n",
    "train = train[train.columns.drop([\"delta_WHP\",\"ID_FILA\"])]"
   ]
  },
  {
   "cell_type": "code",
   "execution_count": null,
   "metadata": {},
   "outputs": [],
   "source": [
    "#ESTANDARIZO FEATURES\n",
    "\n",
    "transformer = MaxAbsScaler().fit(train)\n",
    "X_train= transformer.transform(train)\n",
    "\n"
   ]
  },
  {
   "cell_type": "code",
   "execution_count": null,
   "metadata": {},
   "outputs": [],
   "source": [
    "#MODELO \n",
    "\n",
    "class MyModel(Model):\n",
    "  def __init__(self):\n",
    "    super(MyModel, self).__init__()\n",
    "    self.flatten = Flatten()\n",
    "    self.d1 = Dense(128, activation='relu')\n",
    "    self.d2 = Dense(128, activation='relu')\n",
    "    self.d3 = Dense(64, activation='relu')\n",
    "    self.d4 = Dense(32, activation='relu')\n",
    "    self.d5 = Dense(1)\n",
    "\n",
    "\n",
    "\n",
    "  def call(self, x):\n",
    "    x = self.flatten(x)\n",
    "    x = self.d1(x)\n",
    "    x = self.d2(x)\n",
    "    x = self.d3(x)\n",
    "    x = self.d4(x)\n",
    "    return self.d5(x)\n",
    "\n",
    "# Crea una instancia del modelo\n",
    "model = MyModel()\n"
   ]
  },
  {
   "cell_type": "code",
   "execution_count": null,
   "metadata": {},
   "outputs": [],
   "source": [
    "modelo = MyModel()\n",
    "\n",
    "modelo.compile(optimizer='adam', loss=losses.MeanSquaredError())\n",
    "\n",
    "modelo.fit(x=X_train,y=y_train,batch_size=512,epochs=1000,validation_split=0.2)\n"
   ]
  }
 ],
 "metadata": {
  "kernelspec": {
   "display_name": "Python 3.10.6 64-bit",
   "language": "python",
   "name": "python3"
  },
  "language_info": {
   "codemirror_mode": {
    "name": "ipython",
    "version": 3
   },
   "file_extension": ".py",
   "mimetype": "text/x-python",
   "name": "python",
   "nbconvert_exporter": "python",
   "pygments_lexer": "ipython3",
   "version": "3.10.6"
  },
  "orig_nbformat": 4,
  "vscode": {
   "interpreter": {
    "hash": "8d832290213029041eddbbc4b8a0a553d5df210b193f32fda00218f7fc512b12"
   }
  }
 },
 "nbformat": 4,
 "nbformat_minor": 2
}
