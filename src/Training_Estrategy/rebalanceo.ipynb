{
 "cells": [
  {
   "cell_type": "code",
   "execution_count": 34,
   "metadata": {},
   "outputs": [],
   "source": [
    "import pandas as pd\n",
    "import numpy as np\n",
    "import os\n",
    "from imblearn.under_sampling import RandomUnderSampler \n"
   ]
  },
  {
   "cell_type": "markdown",
   "metadata": {},
   "source": [
    "### ESTRATEGIAS PARA TRATAR CON EL DESBALANCE DE DATOS"
   ]
  },
  {
   "cell_type": "code",
   "execution_count": 35,
   "metadata": {},
   "outputs": [],
   "source": [
    "\n",
    "#FEATURE ENGINEERING INPUT\n",
    "input='FE002'\n",
    "\n",
    "#COLOCO NOMBRE DEL EXPERIMENTO\n",
    "experimento=f\"TS001-{input}\"\n"
   ]
  },
  {
   "cell_type": "code",
   "execution_count": 39,
   "metadata": {},
   "outputs": [],
   "source": [
    "\n",
    "#CARGO DATASET\n",
    "\n",
    "os.chdir(\"C:/Users/vyago/Desktop/Yago/Competencia/ypf\")  # Directorio actual\n",
    "train = pd.read_csv(f\"../Exp/{input}/train.csv\")\n",
    "test = pd.read_csv(f\"../Exp/{input}/test.csv\")\n",
    "\n",
    "train[\"evento\"] = train[\"delta_WHP\"].apply( lambda x: 1 if x!=0 else 0)  # Genero feature evento de interferencia\n"
   ]
  },
  {
   "cell_type": "code",
   "execution_count": 40,
   "metadata": {},
   "outputs": [],
   "source": [
    "def balanceo(proporcion,dataset,tipo=\"under\"):\n",
    "    \n",
    "    if tipo==\"under\":\n",
    "        df = dataset[dataset[\"evento\"]==1]\n",
    "        n_min = df[\"evento\"].shape[0]\n",
    "        \n",
    "        n_may = int(n_min/proporcion) if proporcion >0.0 else 0\n",
    "        sampleo = dataset[dataset[\"evento\"]==0].sample(n=n_may,random_state=42)\n",
    "        df = pd.concat([df,sampleo],axis=0)\n",
    "    \n",
    "        return df\n",
    "    \n",
    "    "
   ]
  },
  {
   "cell_type": "code",
   "execution_count": 41,
   "metadata": {},
   "outputs": [],
   "source": [
    "dataset = balanceo(0.3,train)"
   ]
  },
  {
   "cell_type": "code",
   "execution_count": 42,
   "metadata": {},
   "outputs": [],
   "source": [
    "if not os.path.isdir(f'../Exp/{experimento}'):\n",
    "    os.makedirs(f'../Exp/{experimento}')\n",
    " \n",
    "train.to_csv(f\"../Exp/{experimento}/train.csv\",index=False)\n",
    "test.to_csv(f\"../Exp/{experimento}/test.csv\",index=False)"
   ]
  },
  {
   "cell_type": "code",
   "execution_count": 43,
   "metadata": {},
   "outputs": [],
   "source": [
    "\n",
    "if not os.path.isdir(f'../Exp/{experimento}'):\n",
    "    os.makedirs(f'../Exp/{experimento}')\n",
    " \n",
    "train.to_csv(f\"../Exp/{experimento}/train.csv\",index=False)\n",
    "test.to_csv(f\"../Exp/{experimento}/test.csv\",index=False)"
   ]
  },
  {
   "cell_type": "code",
   "execution_count": null,
   "metadata": {},
   "outputs": [],
   "source": []
  },
  {
   "cell_type": "code",
   "execution_count": null,
   "metadata": {},
   "outputs": [],
   "source": []
  }
 ],
 "metadata": {
  "kernelspec": {
   "display_name": "Python 3.10.6 64-bit",
   "language": "python",
   "name": "python3"
  },
  "language_info": {
   "codemirror_mode": {
    "name": "ipython",
    "version": 3
   },
   "file_extension": ".py",
   "mimetype": "text/x-python",
   "name": "python",
   "nbconvert_exporter": "python",
   "pygments_lexer": "ipython3",
   "version": "3.10.6"
  },
  "orig_nbformat": 4,
  "vscode": {
   "interpreter": {
    "hash": "8d832290213029041eddbbc4b8a0a553d5df210b193f32fda00218f7fc512b12"
   }
  }
 },
 "nbformat": 4,
 "nbformat_minor": 2
}
