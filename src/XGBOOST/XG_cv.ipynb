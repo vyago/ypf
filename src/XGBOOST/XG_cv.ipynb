{
 "cells": [
  {
   "cell_type": "code",
   "execution_count": 3,
   "metadata": {},
   "outputs": [],
   "source": [
    "import xgboost as xgb\n",
    "import pandas as pd\n",
    "import numpy as np\n",
    "import os"
   ]
  },
  {
   "cell_type": "code",
   "execution_count": null,
   "metadata": {},
   "outputs": [],
   "source": [
    "#INPUT\n",
    "input = 'HT001-FE001'\n",
    "fe = input.split(\"-\")[1] # ME QUEDO CON EL VALOR DE FE\n",
    "#EXPERIMENTO\n",
    "experimento = 'EN-002'\n",
    "\n",
    "#CARGO DATASETS\n",
    "os.chdir(\"C:/Users/vyago/Desktop/Yago/Competencia/ypf\")  # Directorio actual\n",
    "train = pd.read_csv(f\"../Exp/{fe}/train.csv\")\n",
    "test = pd.read_csv(f\"../Exp/{fe}/test.csv\")"
   ]
  },
  {
   "cell_type": "code",
   "execution_count": null,
   "metadata": {},
   "outputs": [],
   "source": [
    "#LEO LAS SALIDAS DE LA OPTIMIZACIÓN BAYESIANA DEL EXPERIMENTO\n",
    "\n",
    "log_bo = pd.read_csv(f'../Exp/{input}/HT.csv', sep=\",\")\n",
    "log_bo = log_bo.sort_values(\"loss\")\n",
    "log_bo[\"params\"][0].replace(\"\\'\", \"\\\"\")"
   ]
  },
  {
   "cell_type": "code",
   "execution_count": null,
   "metadata": {},
   "outputs": [],
   "source": [
    "# ME QUEDO CON LOS VALORES NUMÉRICOS\n",
    "\n",
    "train = train.select_dtypes(\"number\")\n",
    "\n",
    "y_train = np.sqrt(train[\"delta_WHP\"])\n",
    "x_train = train[train.columns.drop([\"delta_WHP\",\"ID_FILA\"])]#,\"ID_EVENTO\"])]"
   ]
  }
 ],
 "metadata": {
  "kernelspec": {
   "display_name": "Python 3.10.6 64-bit",
   "language": "python",
   "name": "python3"
  },
  "language_info": {
   "codemirror_mode": {
    "name": "ipython",
    "version": 3
   },
   "file_extension": ".py",
   "mimetype": "text/x-python",
   "name": "python",
   "nbconvert_exporter": "python",
   "pygments_lexer": "ipython3",
   "version": "3.10.6"
  },
  "orig_nbformat": 4,
  "vscode": {
   "interpreter": {
    "hash": "8d832290213029041eddbbc4b8a0a553d5df210b193f32fda00218f7fc512b12"
   }
  }
 },
 "nbformat": 4,
 "nbformat_minor": 2
}
